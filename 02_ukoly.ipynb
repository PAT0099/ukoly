{
 "cells": [
  {
   "attachments": {},
   "cell_type": "markdown",
   "metadata": {},
   "source": [
    "# Prostory jmen a obor platnosti proměnných:\n",
    "- Upravte funkci nalézající prvočísla tak, aby ukládala již spočítané prvočísla do listu v defaultním argumentu funkce. \n"
   ]
  },
  {
   "cell_type": "code",
   "execution_count": 5,
   "metadata": {},
   "outputs": [
    {
     "name": "stdout",
     "output_type": "stream",
     "text": [
      "[2, 3, 5, 7, 11, 13, 17, 19, 23, 29]\n",
      "[2, 3, 5, 7, 11, 13, 17, 19, 23, 29, 31, 37, 41, 43, 47, 53, 59, 61, 67, 71, 73, 79, 83, 89, 97, 101, 103, 107, 109, 113]\n",
      "[2, 3, 5, 7, 11, 13, 17, 19, 23, 29, 31, 37, 41, 43, 47]\n"
     ]
    }
   ],
   "source": [
    "def primes(n: int, _primes = [2]) -> list:\n",
    "    if len(_primes) > n:\n",
    "        return _primes[:n]\n",
    "    cur = _primes[-1]\n",
    "    while len(_primes) < n:\n",
    "        cur += 1\n",
    "        for i in _primes:\n",
    "            if not cur % i:\n",
    "                break\n",
    "        else:\n",
    "            _primes.append(cur)\n",
    "\n",
    "    return _primes\n",
    "\n",
    "print(primes(10))\n",
    "print(primes(30))\n",
    "print(primes(15))"
   ]
  },
  {
   "attachments": {},
   "cell_type": "markdown",
   "metadata": {},
   "source": [
    "\n",
    "# Jupyter magics:\n",
    "- použijte funkci %%writefile a pomocí ní (a kopie funkcí z posledního DU) vytvořte .py soubor sloužící jako modul mající tři funkce viz minulý DU\n",
    "- Použijte magic příkazy %time %timeit %%time a %%timeit k měření času běhu různých částí kódu (například funkcí z minulého DU).\n"
   ]
  },
  {
   "cell_type": "code",
   "execution_count": 6,
   "metadata": {},
   "outputs": [
    {
     "name": "stdout",
     "output_type": "stream",
     "text": [
      "Writing module_02.py\n"
     ]
    }
   ],
   "source": [
    "%%writefile module_02.py\n",
    "def iter_sqrt(a: float, n: int) -> float:\n",
    "    \"\"\"Calculates the approximation of the square root of a given number using the simple iteration method.\n",
    "\n",
    "    Input parameters:\n",
    "    a - value to get square root of\n",
    "    n - number of iterations\n",
    "\n",
    "    Outputs:\n",
    "    approximation of square root of a\n",
    "    \"\"\"\n",
    "    #checks\n",
    "    if a < 0:\n",
    "        print(\"Err: square root doesn't accept negative values\")\n",
    "        return 0\n",
    "    elif a == 0:\n",
    "        return 0\n",
    "    if n <= 0:\n",
    "        print(\"Err: the number of iterations should be larger than 0\")\n",
    "        return a\n",
    "    \n",
    "    #method\n",
    "    x = a\n",
    "    for i in range(0, n):\n",
    "        x = (a/x + x)/2\n",
    "    return x\n",
    "\n",
    "def iter_pi(n: int) -> float:\n",
    "    \"\"\"Approximates pi by using the regular n-gon method.\n",
    "\n",
    "    Input parameter:\n",
    "    n - number of iterations\n",
    "\n",
    "    Outputs:\n",
    "    approximation of pi\n",
    "    \"\"\"\n",
    "    #checks\n",
    "    if n <= 0:\n",
    "        print(\"Err: the number of iterations should be larger than 0\")\n",
    "        return 0\n",
    "    \n",
    "    #method\n",
    "    l = 1\n",
    "    h = iter_sqrt(.75, 100)\n",
    "    for i in range(1, n):\n",
    "        l = iter_sqrt((l/2)**2 + (1-h)**2, 100)\n",
    "        h = iter_sqrt(1 - (l/2)**2, 100)\n",
    "\n",
    "    return 1.5 * 2**n * l * h\n",
    "\n",
    "def iter_newton(n: int) -> float:\n",
    "    \"\"\"Approximates pi by using Newton's method.\n",
    "\n",
    "    Input parameter:\n",
    "    n - number of iterations\n",
    "\n",
    "    Outputs:\n",
    "    approximation of pi\n",
    "    \"\"\"\n",
    "    #checks\n",
    "    if n <= 0:\n",
    "        print(\"Err: the number of iterations should be larger than 0\")\n",
    "        return 0\n",
    "    \n",
    "    a = 1/16\n",
    "    sum = a / 3\n",
    "    for i in range(2, n+1):\n",
    "        a *= (2*i - 3) / (i * 2**3)\n",
    "        sum += a / (2*i + 1)\n",
    "    return 12 * (.5 - iter_sqrt(3, 1000)/8 - sum)\n"
   ]
  },
  {
   "cell_type": "code",
   "execution_count": 7,
   "metadata": {},
   "outputs": [],
   "source": [
    "from module_02 import iter_sqrt, iter_pi, iter_newton"
   ]
  },
  {
   "cell_type": "code",
   "execution_count": 8,
   "metadata": {},
   "outputs": [
    {
     "name": "stdout",
     "output_type": "stream",
     "text": [
      "CPU times: user 3 µs, sys: 0 ns, total: 3 µs\n",
      "Wall time: 9.06 µs\n",
      "CPU times: user 2 µs, sys: 0 ns, total: 2 µs\n",
      "Wall time: 7.63 µs\n",
      "CPU times: user 1 µs, sys: 0 ns, total: 1 µs\n",
      "Wall time: 3.34 µs\n"
     ]
    },
    {
     "data": {
      "text/plain": [
       "3.1415926535897922"
      ]
     },
     "execution_count": 8,
     "metadata": {},
     "output_type": "execute_result"
    }
   ],
   "source": [
    "%time\n",
    "iter_sqrt(2, 100)\n",
    "%time\n",
    "iter_pi(50)\n",
    "%time\n",
    "iter_pi(50)"
   ]
  },
  {
   "cell_type": "code",
   "execution_count": 9,
   "metadata": {},
   "outputs": [
    {
     "name": "stdout",
     "output_type": "stream",
     "text": [
      " "
     ]
    },
    {
     "name": "stdout",
     "output_type": "stream",
     "text": [
      "         103 function calls in 0.001 seconds\n",
      "\n",
      "   Ordered by: internal time\n",
      "\n",
      "   ncalls  tottime  percall  cumtime  percall filename:lineno(function)\n",
      "       99    0.001    0.000    0.001    0.000 module_02.py:1(iter_sqrt)\n",
      "        1    0.000    0.000    0.001    0.001 module_02.py:27(iter_pi)\n",
      "        1    0.000    0.000    0.001    0.001 {built-in method builtins.exec}\n",
      "        1    0.000    0.000    0.001    0.001 <string>:1(<module>)\n",
      "        1    0.000    0.000    0.000    0.000 {method 'disable' of '_lsprof.Profiler' objects}"
     ]
    }
   ],
   "source": [
    "%%prun\n",
    "iter_pi(50)"
   ]
  },
  {
   "cell_type": "code",
   "execution_count": 10,
   "metadata": {},
   "outputs": [
    {
     "name": "stdout",
     "output_type": "stream",
     "text": [
      " "
     ]
    },
    {
     "name": "stdout",
     "output_type": "stream",
     "text": [
      "         5 function calls in 0.000 seconds\n",
      "\n",
      "   Ordered by: internal time\n",
      "\n",
      "   ncalls  tottime  percall  cumtime  percall filename:lineno(function)\n",
      "        1    0.000    0.000    0.000    0.000 module_02.py:1(iter_sqrt)\n",
      "        1    0.000    0.000    0.000    0.000 module_02.py:50(iter_newton)\n",
      "        1    0.000    0.000    0.000    0.000 {built-in method builtins.exec}\n",
      "        1    0.000    0.000    0.000    0.000 <string>:1(<module>)\n",
      "        1    0.000    0.000    0.000    0.000 {method 'disable' of '_lsprof.Profiler' objects}"
     ]
    }
   ],
   "source": [
    "%%prun\n",
    "iter_newton(50)"
   ]
  },
  {
   "cell_type": "markdown",
   "metadata": {},
   "source": [
    "\n",
    "# Práce s řetězci:\n",
    "\n",
    "- Použíjte funkce z minulého úkolu a v cyklu spočtěte $\\pi$ s různým $n$. Pomocí f-strings vypište výsledky ve formátu \"n = 5, pi = 3.14159, počet správných cifer = 5\".\n"
   ]
  },
  {
   "cell_type": "code",
   "execution_count": 11,
   "metadata": {},
   "outputs": [
    {
     "name": "stdout",
     "output_type": "stream",
     "text": [
      "\tpi = 3.141592653589793\n",
      "n =  1, pi = 3.151923788646684, počet správných cifer =  1\n",
      "n =  2, pi = 3.142548788646685, počet správných cifer =  2\n",
      "n =  3, pi = 3.141711735075256, počet správných cifer =  3\n",
      "n =  4, pi = 3.141610009814839, počet správných cifer =  3\n",
      "n =  5, pi = 3.141595444607097, počet správných cifer =  5\n",
      "n =  6, pi = 3.141593133780869, počet správných cifer =  5\n",
      "n =  7, pi = 3.141592740390214, počet správných cifer =  6\n",
      "n =  8, pi = 3.141592669883616, počet správných cifer =  7\n",
      "n =  9, pi = 3.141592656740940, počet správných cifer =  8\n",
      "n = 10, pi = 3.141592654214103, počet správných cifer =  8\n",
      "n = 11, pi = 3.141592653715977, počet správných cifer =  9\n",
      "n = 12, pi = 3.141592653615729, počet správných cifer =  9\n",
      "n = 13, pi = 3.141592653595201, počet správných cifer = 10\n",
      "n = 14, pi = 3.141592653590934, počet správných cifer = 10\n",
      "n = 15, pi = 3.141592653590036, počet správných cifer = 10\n",
      "n = 16, pi = 3.141592653589846, počet správných cifer = 12\n",
      "n = 17, pi = 3.141592653589805, počet správných cifer = 12\n",
      "n = 18, pi = 3.141592653589796, počet správných cifer = 14\n",
      "n = 19, pi = 3.141592653589794, počet správných cifer = 14\n",
      "n = 20, pi = 3.141592653589794, počet správných cifer = 14\n"
     ]
    }
   ],
   "source": [
    "import math\n",
    "precision = 15\n",
    "math_pi = f\"{math.pi:1.{precision}f}\"\n",
    "def pi_string(n, func):\n",
    "    return f\"{func(n):1.{precision}f}\"\n",
    "def get_digits(str):\n",
    "    for i in range(precision):\n",
    "        if str[i+2] != math_pi[i+2]:\n",
    "            return i\n",
    "    return precision\n",
    "\n",
    "print(f\"\\tpi = {math_pi}\")\n",
    "for i in range(1, 21):\n",
    "    pi = pi_string(i, iter_newton)\n",
    "    print(f\"n = {i:>2}, pi = {pi}, počet správných cifer = {get_digits(pi):>2}\")"
   ]
  },
  {
   "cell_type": "markdown",
   "metadata": {},
   "source": [
    "\n",
    "# Generátory a iterátory:\n",
    "\n",
    "- Napište generátor (funkci), který vytváří Fibonacciho posloupnost a vrátí prvních $n$ členů.\n"
   ]
  },
  {
   "cell_type": "code",
   "execution_count": 12,
   "metadata": {},
   "outputs": [
    {
     "name": "stdout",
     "output_type": "stream",
     "text": [
      "[1, 1, 2, 3, 5, 8, 13, 21, 34, 55]\n"
     ]
    }
   ],
   "source": [
    "def fibonacci():\n",
    "    a = 0\n",
    "    b = 1\n",
    "    yield 1\n",
    "\n",
    "    while True:\n",
    "        c = a + b\n",
    "        yield c\n",
    "        a = b\n",
    "        b = c\n",
    "\n",
    "gen = fibonacci()\n",
    "\n",
    "n = 10\n",
    "print([next(gen) for i in range(0, n)])"
   ]
  },
  {
   "cell_type": "markdown",
   "metadata": {},
   "source": [
    "\n",
    "# List comprehension:\n",
    "- Vytvořte seznam čísel od 1 do 10 pomocí list comprehension.\n",
    "- Vytvořte seznam druhých mocnin čísel od 1 do 10 pomocí list comprehension.\n",
    "- Vytvořte seznam prvočísel od 1 do 100 pomocí list comprehension. Hint (použijte funkci all() na generátor testující dělitelnost).\n"
   ]
  },
  {
   "cell_type": "code",
   "execution_count": 13,
   "metadata": {},
   "outputs": [
    {
     "name": "stdout",
     "output_type": "stream",
     "text": [
      "[1, 2, 3, 4, 5, 6, 7, 8, 9, 10]\n",
      "[1, 4, 9, 16, 25, 36, 49, 64, 81, 100]\n",
      "[2, 3, 5, 7, 11, 13, 17, 19, 23, 29, 31, 37, 41, 43, 47, 53, 59, 61, 67, 71, 73, 79, 83, 89, 97]\n"
     ]
    }
   ],
   "source": [
    "list1 = list(range(1, 11))\n",
    "list2 = list(i**2 for i in range(1, 11))\n",
    "list3 = list(i for i in range(2, 101) if all(i % p for p in range(2, int(i**0.5) + 1)))\n",
    "\n",
    "print(f\"{list1}\\n{list2}\\n{list3}\")"
   ]
  },
  {
   "cell_type": "markdown",
   "metadata": {},
   "source": [
    "\n",
    "# Práce se soubory:\n",
    "- Pomocí %%writefile vytvořte soubor s nějakým textem.\n",
    "- Otevřete soubor pro čtení a vypište jeho obsah.\n",
    "- Otevřete jiný soubor pro zápis a napište do něj textový řetězec.\n",
    "- Pomocí f-strings zapište do souboru tabulku čísel od 1 do 10, jejich druhých mocnin a jejich druhých odmocnin."
   ]
  },
  {
   "cell_type": "code",
   "execution_count": 14,
   "metadata": {},
   "outputs": [
    {
     "name": "stdout",
     "output_type": "stream",
     "text": [
      "Writing text_02.txt\n"
     ]
    }
   ],
   "source": [
    "%%writefile text_02.txt\n",
    "text text tady je text\n",
    "aaaaaaaaaaaaaaaaaaaaaaaaaaaaaaaaaaa"
   ]
  },
  {
   "cell_type": "code",
   "execution_count": 15,
   "metadata": {},
   "outputs": [
    {
     "name": "stdout",
     "output_type": "stream",
     "text": [
      "text text tady je text\n",
      "\n",
      "aaaaaaaaaaaaaaaaaaaaaaaaaaaaaaaaaaa\n",
      "\n"
     ]
    }
   ],
   "source": [
    "try:\n",
    "    with open(\"text_02.txt\", \"r\") as f:\n",
    "        for line in f:\n",
    "            print(line)\n",
    "except FileNotFoundError:\n",
    "    print(\"Error reading file\")"
   ]
  },
  {
   "cell_type": "code",
   "execution_count": 16,
   "metadata": {},
   "outputs": [],
   "source": [
    "with open(\"table_02\", \"w\") as f:\n",
    "    f.write(f\"{'n':>7},{'n*n':>7},{'sqrt(n)':>8}\\n\") #textovy retezec\n",
    "    f.writelines(f\"{i:>7},{i**2:>7},{i**0.5:>8.3f}\\n\" for i in range(1,11))"
   ]
  },
  {
   "attachments": {},
   "cell_type": "markdown",
   "metadata": {},
   "source": [
    "# Domácí úkol:\n",
    "Pomocí vlastních tříd a dědičnosti vytvořte \"soubor tříd\" = nástroj pro derivaci funkcí.\n",
    "\n",
    "Konkrétněji:\n",
    "- Vytvořte třídu **Operator**\n",
    "    - Třída bude mít metody:\n",
    "        - `__init__()` - inicializuje operátor (zde stačí `pass`)\n",
    "        - `__str__()` - vrací řetězec reprezentující operátor\n",
    "        - `__repr__()` - vrací řetězec reprezentující operátor\n",
    "- Vytvořte třídu **BinaryOperator**, která bude dědit od třídy Operator\n",
    "    - Třída bude mít atributy:\n",
    "        - `levy_argument` - levý operand\n",
    "        - `pravy_argument` - pravý operand\n",
    "    - Třída bude mít metody:\n",
    "        - `__init__()` - inicializuje operátor, přiřadí argumenty\n",
    "        - `__str__()` - vrací řetězec reprezentující operátor\n",
    "        - `__repr__()` - vrací řetězec reprezentující operátor\n",
    "        - `diff()` - vrací derivaci operátoru\n",
    "- Vytvořte třídu **UnaryOperator**, která bude dědit od třídy Operator\n",
    "    - Třída bude mít atributy:\n",
    "        - `argument` - argument funkce \n",
    "    - Třída bude mít metody:\n",
    "        - `__init__()` - inicializuje operátor, přiřadí argument\n",
    "        - `__str__()` - vrací řetězec reprezentující operátor\n",
    "        - `__repr__()` - vrací řetězec reprezentující operátor\n",
    "        - `diff()` - vrací derivaci operátoru\n",
    "\n",
    "Pro počítání derivací použijte standardní pravidla:\n",
    "- derivace součtu je součet derivací\n",
    "- pravidlo pro derivaci součinu\n",
    "- derivace funkce je derivovaná funkce násobená derivovaným argumentem\n",
    "\n",
    "Pro **BinaryOperator** a **UnaryOperator** implementujte také metody implementující standardní operátory:\n",
    "- `__add__()` - implementuje operátor `+`\n",
    "- `__sub__()` - implementuje operátor `-`\n",
    "- `__mul__()` - implementuje operátor `*`\n",
    "\n",
    "Pro **BinaryOperator** implementujte dvě dceřiné třídy:\n",
    "- **Addition** - implementuje operátor `+`\n",
    "- **Multiplication** - implementuje operátor `*`\n",
    "\n",
    "Pro **UnaryOperator** implementujte tyto dceřiné třídy:\n",
    "- **exp** - implementuje funkci `exp`\n",
    "- **sin** - implementuje funkci `sin`\n",
    "- **cos** - implementuje funkci `cos`\n",
    "- **ln** - implementuje funkci `ln`\n",
    "- **frc** - implementuje funkci `1/x`\n",
    "- **identity** - implementuje identitu `x`\n",
    "- **cst** - implementuje konstantu `c`\n",
    "- **mocnina** - implementuje mocninu `x^n`\n",
    "\n",
    "U všech funckí implementujte adekvátně metodu `diff()` a `__str__()`, tak aby se funkce vypisovaly v přehledné podobě.\n",
    "\n",
    "Ozkoušejte na následujících funkcích:\n",
    "- $sin(x + cos(x*x)) + 1$\n",
    "- $x^2 + 2x + 1 + 2x^2$\n",
    "- $x^2 + 2x + exp(x)$"
   ]
  },
  {
   "cell_type": "code",
   "execution_count": 17,
   "metadata": {},
   "outputs": [],
   "source": [
    "# kostra k doplnění, místa označená TODO doplňte\n",
    "\n",
    "class Operator:\n",
    "    def __init__(self):\n",
    "        pass\n",
    "    \n",
    "    def __str__(self):\n",
    "        return type(self).__name__\n",
    "    \n",
    "    def __repr__(self):\n",
    "        return self.__str__()\n",
    "    \n",
    "    def diff(self):\n",
    "        pass\n",
    "\n",
    "    def simplify(self):\n",
    "        return self\n",
    "    \n",
    "    def __add__(self, other):\n",
    "        return Addition(self, other)\n",
    "    \n",
    "    def __sub__(self, other):\n",
    "        return Addition(self, Multiplication(cst(-1), other))\n",
    "    \n",
    "    def __mul__(self, other):\n",
    "        return Multiplication(self, other)\n",
    "    \n",
    "class BinaryOperator(Operator):\n",
    "    def __init__(self, levy_argument, pravy_argument):\n",
    "        self.levy_argument = levy_argument\n",
    "        self.pravy_argument = pravy_argument\n",
    "        \n",
    "class UnaryOperator(Operator):\n",
    "    def __init__(self, argument):\n",
    "        self.argument = argument\n",
    "    \n",
    "    #sin and stuff couldn't write what's inside them, added these\n",
    "    def __str__(self):\n",
    "        return f\"{type(self).__name__}({self.argument})\"\n",
    "    def __repr__(self):\n",
    "        return self.__str__()\n",
    "    \n",
    "        \n",
    "class Addition(BinaryOperator):\n",
    "    def __str__(self):\n",
    "        return f\"{self.levy_argument} + {self.pravy_argument}\"\n",
    "    def diff(self):\n",
    "        return self.levy_argument.diff() + self.pravy_argument.diff()\n",
    "    def simplify(self):\n",
    "        left = self.levy_argument.simplify()\n",
    "        right = self.pravy_argument.simplify()\n",
    "        if type(left) == cst and type(right) == cst:\n",
    "            left.value += right.value\n",
    "            right.value = 0\n",
    "        if type(left) == cst and left.value == 0:\n",
    "            return right\n",
    "        if type(right) == cst and right.value == 0:\n",
    "            return left\n",
    "        if left == right:\n",
    "            return cst(2) * left\n",
    "        return left + right\n",
    "    \n",
    "class Multiplication(BinaryOperator):\n",
    "    def __str__(self):\n",
    "        return f\"({self.levy_argument})*({self.pravy_argument})\"\n",
    "    def diff(self):\n",
    "        return self.levy_argument.diff() * self.pravy_argument + self.levy_argument * self.pravy_argument.diff()\n",
    "    def simplify(self):\n",
    "        left = self.levy_argument.simplify()\n",
    "        right = self.pravy_argument.simplify()\n",
    "        if type(left) == cst and type(right) == cst:\n",
    "            left.value *= right.value\n",
    "            right.value = 1\n",
    "        if type(left) == cst:\n",
    "            if left.value == 0:\n",
    "                return cst(0)\n",
    "            elif left.value == 1:\n",
    "                return right\n",
    "        if type(right) == cst:\n",
    "            if right.value == 0:\n",
    "                return cst(0)\n",
    "            elif right.value == 1:\n",
    "                return left\n",
    "        if left == right:\n",
    "            return mocnina(left, 2)\n",
    "        return left * right\n",
    "    \n",
    "class cst(UnaryOperator):\n",
    "    def __init__(self, value):\n",
    "        self.value = value\n",
    "    def __str__(self):\n",
    "        return str(self.value)\n",
    "    def diff(self):\n",
    "        return cst(0)\n",
    "    \n",
    "class identity(UnaryOperator):\n",
    "    def __init__(self):\n",
    "        pass\n",
    "    def __str__(self):\n",
    "        return \"x\"\n",
    "    def diff(self):\n",
    "        return cst(1)\n",
    "    \n",
    "class mocnina(UnaryOperator):\n",
    "    def __init__(self, argument, exponent):\n",
    "        self.argument = argument\n",
    "        self.exponent = exponent\n",
    "    def __str__(self):\n",
    "        return f\"({self.argument})^{self.exponent}\"\n",
    "    def diff(self):\n",
    "        if self.exponent == 0:\n",
    "            return cst(0)\n",
    "        elif self.exponent == 1:\n",
    "            return self.argument\n",
    "        return cst(self.exponent) * mocnina(self.argument, self.exponent-1) * self.argument.diff()\n",
    "    def simplify(self):\n",
    "        arg = self.argument.simplify()\n",
    "        if self.exponent == 0:\n",
    "            return cst(1)\n",
    "        elif self.exponent == 1:\n",
    "            return arg\n",
    "        return mocnina(arg, self.exponent)\n",
    "    \n",
    "class sin(UnaryOperator):\n",
    "    def diff(self):\n",
    "        return cos(self.argument) * self.argument.diff()\n",
    "\n",
    "class cos(UnaryOperator):\n",
    "    def diff(self):\n",
    "        return cst(-1) * sin(self.argument) * self.argument.diff()\n",
    "\n",
    "class exp(UnaryOperator):\n",
    "    def diff(self):\n",
    "        return self.argument.diff() * exp(self.argument)\n",
    "    \n",
    "class ln(UnaryOperator):\n",
    "    def diff(self):\n",
    "        return self.argument.diff() * frc(self.argument)\n",
    "\n",
    "class frc(UnaryOperator):\n",
    "    def __str__(self):\n",
    "        return f\"1/({self.argument})\"\n",
    "    def diff(self):\n",
    "        return self.argument.diff() * frc(mocnina(self.argument, 2))"
   ]
  },
  {
   "cell_type": "code",
   "execution_count": 18,
   "metadata": {},
   "outputs": [
    {
     "name": "stdout",
     "output_type": "stream",
     "text": [
      "sin(x + cos((x)*(x))) + 1\n",
      "(cos(x + cos((x)*(x))))*(1 + ((-1)*(sin((x)*(x))))*((1)*(x) + (x)*(1))) + 0\n",
      "(cos(x + cos((x)*(x))))*(1 + ((-1)*(sin((x)*(x))))*((2)*(x)))\n"
     ]
    }
   ],
   "source": [
    "# takto by se to mělo používat\n",
    "x = identity()\n",
    "# sin(x + cos(x*x)) + 1\n",
    "f1 = sin(x + cos(x*x)) + cst(1)\n",
    "print(f1)\n",
    "print(f1.diff())\n",
    "print((f1.diff()).simplify())"
   ]
  },
  {
   "attachments": {},
   "cell_type": "markdown",
   "metadata": {},
   "source": [
    "můj výstup byl:\n",
    "\n",
    "`sin(x + cos((x)*(x))) + 1`\n",
    "\n",
    "`(cos(x + cos((x)*(x))))*(1 + ((-1)*(sin((x)*(x))))*((1)*(x) + (x)*(1))) + 0`"
   ]
  },
  {
   "cell_type": "code",
   "execution_count": 19,
   "metadata": {},
   "outputs": [
    {
     "name": "stdout",
     "output_type": "stream",
     "text": [
      "(x)^2 + (2)*(x) + 1 + (2)*((x)^2)\n",
      "((2)*((x)^1))*(1) + (0)*(x) + (2)*(1) + 0 + (0)*((x)^2) + (2)*(((2)*((x)^1))*(1))\n",
      "(2)*(x) + 2 + (2)*((2)*(x))\n"
     ]
    }
   ],
   "source": [
    "x = identity()\n",
    "# x ^ 2 + 2x + 1 + 2x ^ 2\n",
    "f2 = mocnina(x,2) + cst(2)*x + cst(1) + cst(2)*mocnina(x,2)\n",
    "print(f2)\n",
    "print(f2.diff())\n",
    "print((f2.diff()).simplify())"
   ]
  },
  {
   "attachments": {},
   "cell_type": "markdown",
   "metadata": {},
   "source": [
    "můj výstup byl:\n",
    "\n",
    "`(x)^2 + (2)*(x) + 1 + (2)*((x)^2)`\n",
    "\n",
    "`((2)*((x)^1))*(1) + (0)*(x) + (2)*(1) + 0 + (0)*((x)^2) + (2)*(((2)*((x)^1))*(1))`"
   ]
  },
  {
   "cell_type": "code",
   "execution_count": 20,
   "metadata": {},
   "outputs": [
    {
     "name": "stdout",
     "output_type": "stream",
     "text": [
      "(x)^2 + (2)*(x) + exp(x)\n",
      "((2)*((x)^1))*(1) + (0)*(x) + (2)*(1) + (1)*(exp(x))\n",
      "(2)*(x) + 2 + exp(x)\n"
     ]
    }
   ],
   "source": [
    "x = identity()\n",
    "# x ^ 2 + 2x + exp(x)\n",
    "f3 = mocnina(x,2) + cst(2)*x + exp(x)\n",
    "print(f3)\n",
    "print(f3.diff())\n",
    "print(f3.diff().simplify())"
   ]
  },
  {
   "attachments": {},
   "cell_type": "markdown",
   "metadata": {},
   "source": [
    "můj výstup byl:\n",
    "\n",
    "`(x)^2 + (2)*(x) + exp(x)`\n",
    "\n",
    "`((2)*((x)^1))*(1) + (0)*(x) + (2)*(1) + (exp(x))*(1)`\n"
   ]
  },
  {
   "attachments": {},
   "cell_type": "markdown",
   "metadata": {},
   "source": [
    "# Bonusový úkol:\n",
    "Doplňte ke všem třídám metodu `simplify()`, která provede zjednodušení výrazu. Například:\n",
    "- součet s nulou vrátí druhý operand\n",
    "- součin s nulou vrátí nulu\n",
    "- mocnina s exponentem 0 vrátí 1\n",
    "- mocnina s exponentem 1 vrátí první argument\n",
    "- součín dvou stejných argumentů vrátí mocninu s exponentem 2\n",
    "- součin konstant vrátí konstantu se součinem\n",
    "- ..."
   ]
  },
  {
   "cell_type": "markdown",
   "metadata": {},
   "source": []
  }
 ],
 "metadata": {
  "kernelspec": {
   "display_name": "Python 3",
   "language": "python",
   "name": "python3"
  },
  "language_info": {
   "codemirror_mode": {
    "name": "ipython",
    "version": 3
   },
   "file_extension": ".py",
   "mimetype": "text/x-python",
   "name": "python",
   "nbconvert_exporter": "python",
   "pygments_lexer": "ipython3",
   "version": "3.10.6"
  },
  "orig_nbformat": 4,
  "vscode": {
   "interpreter": {
    "hash": "e7370f93d1d0cde622a1f8e1c04877d8463912d04d973331ad4851f04de6915a"
   }
  }
 },
 "nbformat": 4,
 "nbformat_minor": 2
}
